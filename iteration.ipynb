{
 "metadata": {
  "language_info": {
   "codemirror_mode": {
    "name": "ipython",
    "version": 3
   },
   "file_extension": ".py",
   "mimetype": "text/x-python",
   "name": "python",
   "nbconvert_exporter": "python",
   "pygments_lexer": "ipython3",
   "version": "3.8.6-final"
  },
  "orig_nbformat": 2,
  "kernelspec": {
   "name": "python3",
   "display_name": "Python 3.8.6 64-bit ('.venv')",
   "metadata": {
    "interpreter": {
     "hash": "3e30477916b037fd5ff15434c480b2be1ddc6ffffa8291952b3271637d0f1fd9"
    }
   }
  }
 },
 "nbformat": 4,
 "nbformat_minor": 2,
 "cells": [
  {
   "cell_type": "code",
   "execution_count": 206,
   "metadata": {},
   "outputs": [],
   "source": [
    "from git import Repo, objects\n",
    "from datetime import datetime"
   ]
  },
  {
   "cell_type": "code",
   "execution_count": 207,
   "metadata": {},
   "outputs": [],
   "source": [
    "r = Repo()"
   ]
  },
  {
   "cell_type": "code",
   "execution_count": 208,
   "metadata": {},
   "outputs": [],
   "source": [
    "head_list = r.heads"
   ]
  },
  {
   "cell_type": "code",
   "execution_count": 209,
   "metadata": {},
   "outputs": [
    {
     "output_type": "execute_result",
     "data": {
      "text/plain": [
       "[<git.Head \"refs/heads/jupyter\">,\n",
       " <git.Head \"refs/heads/list\">,\n",
       " <git.Head \"refs/heads/main\">,\n",
       " <git.Head \"refs/heads/testbranch-mjbraganza\">,\n",
       " <git.Head \"refs/heads/wip\">]"
      ]
     },
     "metadata": {},
     "execution_count": 209
    }
   ],
   "source": [
    "head_list"
   ]
  },
  {
   "cell_type": "code",
   "execution_count": 210,
   "metadata": {},
   "outputs": [],
   "source": [
    "test_item = head_list[4]"
   ]
  },
  {
   "cell_type": "code",
   "execution_count": 211,
   "metadata": {},
   "outputs": [
    {
     "output_type": "execute_result",
     "data": {
      "text/plain": [
       "git.refs.head.Head"
      ]
     },
     "metadata": {},
     "execution_count": 211
    }
   ],
   "source": [
    "type(test_item)"
   ]
  },
  {
   "cell_type": "code",
   "execution_count": 212,
   "metadata": {},
   "outputs": [],
   "source": [
    "log_of_test_item = test_item.log()"
   ]
  },
  {
   "cell_type": "code",
   "execution_count": 213,
   "metadata": {},
   "outputs": [
    {
     "output_type": "execute_result",
     "data": {
      "text/plain": [
       "1"
      ]
     },
     "metadata": {},
     "execution_count": 213
    }
   ],
   "source": [
    "len(log_of_test_item)"
   ]
  },
  {
   "cell_type": "code",
   "execution_count": 214,
   "metadata": {},
   "outputs": [
    {
     "output_type": "stream",
     "name": "stdout",
     "text": [
      "0000000000000000000000000000000000000000 6adcb9bd855fb89a40a82a1fbf7569bc819b22fe Mario Jason Braganza <jason@janusworx.com> 1605264548 +0530\tbranch: Created from HEAD\n\n"
     ]
    }
   ],
   "source": [
    "for each_item in log_of_test_item:\n",
    "    print (each_item)"
   ]
  },
  {
   "cell_type": "code",
   "execution_count": 215,
   "metadata": {},
   "outputs": [],
   "source": [
    "last_log_item = log_of_test_item[-1]"
   ]
  },
  {
   "cell_type": "code",
   "execution_count": 216,
   "metadata": {},
   "outputs": [
    {
     "output_type": "execute_result",
     "data": {
      "text/plain": [
       "<git.Actor \"Mario Jason Braganza <jason@janusworx.com>\">"
      ]
     },
     "metadata": {},
     "execution_count": 216
    }
   ],
   "source": [
    "last_log_item.actor"
   ]
  },
  {
   "cell_type": "code",
   "execution_count": 217,
   "metadata": {},
   "outputs": [
    {
     "output_type": "execute_result",
     "data": {
      "text/plain": [
       "'branch: Created from HEAD'"
      ]
     },
     "metadata": {},
     "execution_count": 217
    }
   ],
   "source": [
    "last_log_item.message"
   ]
  },
  {
   "cell_type": "code",
   "execution_count": 218,
   "metadata": {},
   "outputs": [
    {
     "output_type": "execute_result",
     "data": {
      "text/plain": [
       "'6adcb9bd855fb89a40a82a1fbf7569bc819b22fe'"
      ]
     },
     "metadata": {},
     "execution_count": 218
    }
   ],
   "source": [
    "last_log_item.newhexsha"
   ]
  },
  {
   "cell_type": "code",
   "execution_count": 219,
   "metadata": {},
   "outputs": [],
   "source": [
    "commitdateutc1 = datetime.fromtimestamp(last_log_item.time[0], timezone.utc)"
   ]
  },
  {
   "cell_type": "code",
   "execution_count": 220,
   "metadata": {},
   "outputs": [
    {
     "output_type": "execute_result",
     "data": {
      "text/plain": [
       "datetime.datetime(2020, 11, 13, 10, 49, 8, tzinfo=datetime.timezone.utc)"
      ]
     },
     "metadata": {},
     "execution_count": 220
    }
   ],
   "source": [
    "commitdateutc1"
   ]
  },
  {
   "cell_type": "code",
   "execution_count": null,
   "metadata": {},
   "outputs": [],
   "source": []
  },
  {
   "cell_type": "code",
   "execution_count": 221,
   "metadata": {},
   "outputs": [],
   "source": [
    "commitdatelocal1 = commitdate.astimezone()"
   ]
  },
  {
   "cell_type": "code",
   "execution_count": 222,
   "metadata": {},
   "outputs": [
    {
     "output_type": "execute_result",
     "data": {
      "text/plain": [
       "datetime.datetime(2020, 11, 13, 16, 19, 8, tzinfo=datetime.timezone(datetime.timedelta(seconds=19800), 'IST'))"
      ]
     },
     "metadata": {},
     "execution_count": 222
    }
   ],
   "source": [
    "commitdatelocal1"
   ]
  },
  {
   "cell_type": "code",
   "execution_count": 233,
   "metadata": {},
   "outputs": [
    {
     "output_type": "stream",
     "name": "stdout",
     "text": [
      "1605264548\t6adcb9bd855fb89a40a82a1fbf7569bc819b22fe\twip\tMario Jason Braganza\n"
     ]
    }
   ],
   "source": [
    "print(f'{last_log_item.time[0]}\\t{last_log_item.newhexsha}\\t{test_item}\\t{last_log_item.actor}')"
   ]
  },
  {
   "cell_type": "code",
   "execution_count": 297,
   "metadata": {},
   "outputs": [
    {
     "output_type": "execute_result",
     "data": {
      "text/plain": [
       "{1605688483: 3e2b082a62fb2cefd09bdfe79801a4daba554eb2 37ea82ae3f06f587fa7d1725488a4b184f47488f Mario Jason Braganza <jason@janusworx.com> 1605688483 +0530\tcommit: Still working at figuring out refs,\n",
       " 1605678545: 3b555e14cc3c13a5970340db568751a488a49fa6 8fd928427840b27f2cf2da7f84f5055648f70cd2 Mario Jason Braganza <jason@janusworx.com> 1605678545 +0530\tcommit: Updated README,\n",
       " 1605678903: bb913585b24c8bba1a2e0457eca0ddad6e742db1 3e2b082a62fb2cefd09bdfe79801a4daba554eb2 Mario Jason Braganza <jason@janusworx.com> 1605678903 +0530\tcommit: Updated README,\n",
       " 1605671168: 0000000000000000000000000000000000000000 3218b9690bbf7d7edcbcbbf00b50909e7c042efe Mario Jason Braganza <jason@janusworx.com> 1605671168 +0530\tbranch: Created from refs/remotes/gh/testbranch-mjbraganza,\n",
       " 1605264548: 0000000000000000000000000000000000000000 6adcb9bd855fb89a40a82a1fbf7569bc819b22fe Mario Jason Braganza <jason@janusworx.com> 1605264548 +0530\tbranch: Created from HEAD}"
      ]
     },
     "metadata": {},
     "execution_count": 297
    }
   ],
   "source": [
    "printlog = {}\n",
    "for each_head in head_list:\n",
    "    printlog[each_head.log()[-1].time[0]]=(each_head.log()[-1])\n",
    "printlog"
   ]
  },
  {
   "cell_type": "code",
   "execution_count": 292,
   "metadata": {},
   "outputs": [
    {
     "output_type": "stream",
     "name": "stdout",
     "text": [
      "1605688483: 3e2b082a62fb2cefd09bdfe79801a4daba554eb2 37ea82ae3f06f587fa7d1725488a4b184f47488f Mario Jason Braganza <jason@janusworx.com> 1605688483 +0530\tcommit: Still working at figuring out refs\n\n1605678903: bb913585b24c8bba1a2e0457eca0ddad6e742db1 3e2b082a62fb2cefd09bdfe79801a4daba554eb2 Mario Jason Braganza <jason@janusworx.com> 1605678903 +0530\tcommit: Updated README\n\n1605678545: 3b555e14cc3c13a5970340db568751a488a49fa6 8fd928427840b27f2cf2da7f84f5055648f70cd2 Mario Jason Braganza <jason@janusworx.com> 1605678545 +0530\tcommit: Updated README\n\n1605671168: 0000000000000000000000000000000000000000 3218b9690bbf7d7edcbcbbf00b50909e7c042efe Mario Jason Braganza <jason@janusworx.com> 1605671168 +0530\tbranch: Created from refs/remotes/gh/testbranch-mjbraganza\n\n1605264548: 0000000000000000000000000000000000000000 6adcb9bd855fb89a40a82a1fbf7569bc819b22fe Mario Jason Braganza <jason@janusworx.com> 1605264548 +0530\tbranch: Created from HEAD\n\n"
     ]
    }
   ],
   "source": [
    "for key in reversed(sorted(printlog.keys())):\n",
    "    print(f'{key}: {printlog[key]}')"
   ]
  },
  {
   "cell_type": "code",
   "execution_count": 322,
   "metadata": {},
   "outputs": [],
   "source": [
    "printlog = {}\n",
    "for each_head in head_list:\n",
    "    head_name = each_head.name\n",
    "    get_last_commit_details = each_head.log()[-1]\n",
    "    commit_date_utc = datetime.fromtimestamp(get_last_commit_details.time[0])\n",
    "    commit_date_local = commit_date_utc.astimezone()\n",
    "    printlog[commit_date_local] = 'hello'\n"
   ]
  },
  {
   "cell_type": "code",
   "execution_count": 321,
   "metadata": {},
   "outputs": [
    {
     "output_type": "stream",
     "name": "stdout",
     "text": [
      "2020-11-18 14:04:43+05:30\n2020-11-18 11:25:03+05:30\n2020-11-18 11:19:05+05:30\n2020-11-18 09:16:08+05:30\n2020-11-13 16:19:08+05:30\n"
     ]
    }
   ],
   "source": [
    "for i in sorted_log:\n",
    "    print(i)"
   ]
  },
  {
   "cell_type": "code",
   "execution_count": null,
   "metadata": {},
   "outputs": [],
   "source": []
  }
 ]
}