{
 "metadata": {
  "language_info": {
   "codemirror_mode": {
    "name": "ipython",
    "version": 3
   },
   "file_extension": ".py",
   "mimetype": "text/x-python",
   "name": "python",
   "nbconvert_exporter": "python",
   "pygments_lexer": "ipython3",
   "version": "3.8.6-final"
  },
  "orig_nbformat": 2,
  "kernelspec": {
   "name": "python3",
   "display_name": "Python 3.8.6 64-bit ('.venv')",
   "metadata": {
    "interpreter": {
     "hash": "3e30477916b037fd5ff15434c480b2be1ddc6ffffa8291952b3271637d0f1fd9"
    }
   }
  }
 },
 "nbformat": 4,
 "nbformat_minor": 2,
 "cells": [
  {
   "cell_type": "code",
   "execution_count": 326,
   "metadata": {},
   "outputs": [],
   "source": [
    "from git import Repo, objects\n",
    "from datetime import datetime\n",
    "from collections import namedtuple"
   ]
  },
  {
   "cell_type": "code",
   "execution_count": 327,
   "metadata": {},
   "outputs": [],
   "source": [
    "r = Repo()"
   ]
  },
  {
   "cell_type": "code",
   "execution_count": 328,
   "metadata": {},
   "outputs": [],
   "source": [
    "head_list = r.heads"
   ]
  },
  {
   "cell_type": "code",
   "execution_count": 329,
   "metadata": {},
   "outputs": [
    {
     "output_type": "execute_result",
     "data": {
      "text/plain": [
       "[<git.Head \"refs/heads/jupyter\">,\n",
       " <git.Head \"refs/heads/list\">,\n",
       " <git.Head \"refs/heads/main\">,\n",
       " <git.Head \"refs/heads/testbranch-mjbraganza\">,\n",
       " <git.Head \"refs/heads/wip\">]"
      ]
     },
     "metadata": {},
     "execution_count": 329
    }
   ],
   "source": [
    "head_list"
   ]
  },
  {
   "cell_type": "code",
   "execution_count": 330,
   "metadata": {},
   "outputs": [],
   "source": [
    "test_item = head_list[4]"
   ]
  },
  {
   "cell_type": "code",
   "execution_count": 331,
   "metadata": {},
   "outputs": [
    {
     "output_type": "execute_result",
     "data": {
      "text/plain": [
       "git.refs.head.Head"
      ]
     },
     "metadata": {},
     "execution_count": 331
    }
   ],
   "source": [
    "type(test_item)"
   ]
  },
  {
   "cell_type": "code",
   "execution_count": 332,
   "metadata": {},
   "outputs": [],
   "source": [
    "log_of_test_item = test_item.log()"
   ]
  },
  {
   "cell_type": "code",
   "execution_count": 333,
   "metadata": {},
   "outputs": [
    {
     "output_type": "execute_result",
     "data": {
      "text/plain": [
       "1"
      ]
     },
     "metadata": {},
     "execution_count": 333
    }
   ],
   "source": [
    "len(log_of_test_item)"
   ]
  },
  {
   "cell_type": "code",
   "execution_count": 334,
   "metadata": {},
   "outputs": [
    {
     "output_type": "stream",
     "name": "stdout",
     "text": [
      "0000000000000000000000000000000000000000 6adcb9bd855fb89a40a82a1fbf7569bc819b22fe Mario Jason Braganza <jason@janusworx.com> 1605264548 +0530\tbranch: Created from HEAD\n\n"
     ]
    }
   ],
   "source": [
    "for each_item in log_of_test_item:\n",
    "    print (each_item)"
   ]
  },
  {
   "cell_type": "code",
   "execution_count": 335,
   "metadata": {},
   "outputs": [],
   "source": [
    "last_log_item = log_of_test_item[-1]"
   ]
  },
  {
   "cell_type": "code",
   "execution_count": 336,
   "metadata": {},
   "outputs": [
    {
     "output_type": "execute_result",
     "data": {
      "text/plain": [
       "<git.Actor \"Mario Jason Braganza <jason@janusworx.com>\">"
      ]
     },
     "metadata": {},
     "execution_count": 336
    }
   ],
   "source": [
    "last_log_item.actor"
   ]
  },
  {
   "cell_type": "code",
   "execution_count": 337,
   "metadata": {},
   "outputs": [
    {
     "output_type": "execute_result",
     "data": {
      "text/plain": [
       "'branch: Created from HEAD'"
      ]
     },
     "metadata": {},
     "execution_count": 337
    }
   ],
   "source": [
    "last_log_item.message"
   ]
  },
  {
   "cell_type": "code",
   "execution_count": 338,
   "metadata": {},
   "outputs": [
    {
     "output_type": "execute_result",
     "data": {
      "text/plain": [
       "'6adcb9bd855fb89a40a82a1fbf7569bc819b22fe'"
      ]
     },
     "metadata": {},
     "execution_count": 338
    }
   ],
   "source": [
    "last_log_item.newhexsha"
   ]
  },
  {
   "cell_type": "code",
   "execution_count": 339,
   "metadata": {},
   "outputs": [],
   "source": [
    "commitdateutc1 = datetime.fromtimestamp(last_log_item.time[0], timezone.utc)"
   ]
  },
  {
   "cell_type": "code",
   "execution_count": 340,
   "metadata": {},
   "outputs": [
    {
     "output_type": "execute_result",
     "data": {
      "text/plain": [
       "datetime.datetime(2020, 11, 13, 10, 49, 8, tzinfo=datetime.timezone.utc)"
      ]
     },
     "metadata": {},
     "execution_count": 340
    }
   ],
   "source": [
    "commitdateutc1"
   ]
  },
  {
   "cell_type": "code",
   "execution_count": null,
   "metadata": {},
   "outputs": [],
   "source": []
  },
  {
   "cell_type": "code",
   "execution_count": 341,
   "metadata": {},
   "outputs": [],
   "source": [
    "commitdatelocal1 = commitdate.astimezone()"
   ]
  },
  {
   "cell_type": "code",
   "execution_count": 342,
   "metadata": {},
   "outputs": [
    {
     "output_type": "execute_result",
     "data": {
      "text/plain": [
       "datetime.datetime(2020, 11, 13, 16, 19, 8, tzinfo=datetime.timezone(datetime.timedelta(seconds=19800), 'IST'))"
      ]
     },
     "metadata": {},
     "execution_count": 342
    }
   ],
   "source": [
    "commitdatelocal1"
   ]
  },
  {
   "cell_type": "code",
   "execution_count": 343,
   "metadata": {},
   "outputs": [
    {
     "output_type": "stream",
     "name": "stdout",
     "text": [
      "1605264548\t6adcb9bd855fb89a40a82a1fbf7569bc819b22fe\twip\tMario Jason Braganza\n"
     ]
    }
   ],
   "source": [
    "print(f'{last_log_item.time[0]}\\t{last_log_item.newhexsha}\\t{test_item}\\t{last_log_item.actor}')"
   ]
  },
  {
   "cell_type": "code",
   "execution_count": 344,
   "metadata": {},
   "outputs": [
    {
     "output_type": "execute_result",
     "data": {
      "text/plain": [
       "{1605788183: 37ea82ae3f06f587fa7d1725488a4b184f47488f 29c00d86146bbfb374c70cbdc664fc71a66099d3 Mario Jason Braganza <jason@janusworx.com> 1605788183 +0530\tcommit: still iterating,\n",
       " 1605678545: 3b555e14cc3c13a5970340db568751a488a49fa6 8fd928427840b27f2cf2da7f84f5055648f70cd2 Mario Jason Braganza <jason@janusworx.com> 1605678545 +0530\tcommit: Updated README,\n",
       " 1605678903: bb913585b24c8bba1a2e0457eca0ddad6e742db1 3e2b082a62fb2cefd09bdfe79801a4daba554eb2 Mario Jason Braganza <jason@janusworx.com> 1605678903 +0530\tcommit: Updated README,\n",
       " 1605671168: 0000000000000000000000000000000000000000 3218b9690bbf7d7edcbcbbf00b50909e7c042efe Mario Jason Braganza <jason@janusworx.com> 1605671168 +0530\tbranch: Created from refs/remotes/gh/testbranch-mjbraganza,\n",
       " 1605264548: 0000000000000000000000000000000000000000 6adcb9bd855fb89a40a82a1fbf7569bc819b22fe Mario Jason Braganza <jason@janusworx.com> 1605264548 +0530\tbranch: Created from HEAD}"
      ]
     },
     "metadata": {},
     "execution_count": 344
    }
   ],
   "source": [
    "printlog = {}\n",
    "for each_head in head_list:\n",
    "    printlog[each_head.log()[-1].time[0]]=(each_head.log()[-1])\n",
    "printlog"
   ]
  },
  {
   "cell_type": "code",
   "execution_count": 345,
   "metadata": {},
   "outputs": [
    {
     "output_type": "stream",
     "name": "stdout",
     "text": [
      "1605788183: 37ea82ae3f06f587fa7d1725488a4b184f47488f 29c00d86146bbfb374c70cbdc664fc71a66099d3 Mario Jason Braganza <jason@janusworx.com> 1605788183 +0530\tcommit: still iterating\n\n1605678903: bb913585b24c8bba1a2e0457eca0ddad6e742db1 3e2b082a62fb2cefd09bdfe79801a4daba554eb2 Mario Jason Braganza <jason@janusworx.com> 1605678903 +0530\tcommit: Updated README\n\n1605678545: 3b555e14cc3c13a5970340db568751a488a49fa6 8fd928427840b27f2cf2da7f84f5055648f70cd2 Mario Jason Braganza <jason@janusworx.com> 1605678545 +0530\tcommit: Updated README\n\n1605671168: 0000000000000000000000000000000000000000 3218b9690bbf7d7edcbcbbf00b50909e7c042efe Mario Jason Braganza <jason@janusworx.com> 1605671168 +0530\tbranch: Created from refs/remotes/gh/testbranch-mjbraganza\n\n1605264548: 0000000000000000000000000000000000000000 6adcb9bd855fb89a40a82a1fbf7569bc819b22fe Mario Jason Braganza <jason@janusworx.com> 1605264548 +0530\tbranch: Created from HEAD\n\n"
     ]
    }
   ],
   "source": [
    "for key in reversed(sorted(printlog.keys())):\n",
    "    print(f'{key}: {printlog[key]}')"
   ]
  },
  {
   "cell_type": "code",
   "execution_count": 357,
   "metadata": {},
   "outputs": [
    {
     "output_type": "execute_result",
     "data": {
      "text/plain": [
       "{datetime.datetime(2020, 11, 19, 17, 46, 23, tzinfo=datetime.timezone(datetime.timedelta(seconds=19800), 'IST')): collect_log_details(branch_name='jupyter', committer_name=<git.Actor \"Mario Jason Braganza <jason@janusworx.com>\">, sha_num='29c00d86146bbfb374c70cbdc664fc71a66099d3', commit_message='commit: still iterating'),\n",
       " datetime.datetime(2020, 11, 18, 11, 19, 5, tzinfo=datetime.timezone(datetime.timedelta(seconds=19800), 'IST')): collect_log_details(branch_name='list', committer_name=<git.Actor \"Mario Jason Braganza <jason@janusworx.com>\">, sha_num='8fd928427840b27f2cf2da7f84f5055648f70cd2', commit_message='commit: Updated README'),\n",
       " datetime.datetime(2020, 11, 18, 11, 25, 3, tzinfo=datetime.timezone(datetime.timedelta(seconds=19800), 'IST')): collect_log_details(branch_name='main', committer_name=<git.Actor \"Mario Jason Braganza <jason@janusworx.com>\">, sha_num='3e2b082a62fb2cefd09bdfe79801a4daba554eb2', commit_message='commit: Updated README'),\n",
       " datetime.datetime(2020, 11, 18, 9, 16, 8, tzinfo=datetime.timezone(datetime.timedelta(seconds=19800), 'IST')): collect_log_details(branch_name='testbranch-mjbraganza', committer_name=<git.Actor \"Mario Jason Braganza <jason@janusworx.com>\">, sha_num='3218b9690bbf7d7edcbcbbf00b50909e7c042efe', commit_message='branch: Created from refs/remotes/gh/testbranch-mjbraganza'),\n",
       " datetime.datetime(2020, 11, 13, 16, 19, 8, tzinfo=datetime.timezone(datetime.timedelta(seconds=19800), 'IST')): collect_log_details(branch_name='wip', committer_name=<git.Actor \"Mario Jason Braganza <jason@janusworx.com>\">, sha_num='6adcb9bd855fb89a40a82a1fbf7569bc819b22fe', commit_message='branch: Created from HEAD')}"
      ]
     },
     "metadata": {},
     "execution_count": 357
    }
   ],
   "source": [
    "printlog = {}\n",
    "collect_log_details = namedtuple('collect_log_details', ['branch_name','committer_name', 'sha_num', 'commit_message'])\n",
    "\n",
    "for each_head in head_list:\n",
    "    head_name = each_head.name\n",
    "    get_last_commit_details = each_head.log()[-1]\n",
    "    commit_date_utc = datetime.fromtimestamp(get_last_commit_details.time[0])\n",
    "    commit_date_local = commit_date_utc.astimezone()\n",
    "    commit_author_name, commit_sha, commit_details = get_last_commit_details.actor, get_last_commit_details.newhexsha, get_last_commit_details.message\n",
    "    log_details=collect_log_details(head_name, commit_author_name,commit_sha, commit_details)\n",
    "    printlog[commit_date_local] = log_details\n",
    "printlog\n",
    "\n"
   ]
  },
  {
   "cell_type": "code",
   "execution_count": 361,
   "metadata": {},
   "outputs": [
    {
     "output_type": "stream",
     "name": "stdout",
     "text": [
      "commit: still iterating\ncommit: Updated README\ncommit: Updated README\nbranch: Created from refs/remotes/gh/testbranch-mjbraganza\nbranch: Created from HEAD\n"
     ]
    }
   ],
   "source": [
    "for key in printlog:\n",
    "    print(printlog[key].commit_message)"
   ]
  },
  {
   "cell_type": "code",
   "execution_count": null,
   "metadata": {},
   "outputs": [],
   "source": []
  }
 ]
}